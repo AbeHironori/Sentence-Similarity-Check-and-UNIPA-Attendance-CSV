!pip3 install --quiet tensorflow_hub tensorflow_text
from IPython.display import display, HTML
from google.colab import files
import pandas as pd
import tensorflow_hub as hub
import tensorflow_text
import numpy as np
import codecs

embed = hub.load("https://tfhub.dev/google/universal-sentence-encoder-multilingual/3")

# ユーザーによる設定が必要な部分
# 以下の指示に従い，数値などを変更してください

# チェックする文章が含まれる，Excelファイルの列に合わせて「column」の数値を変えてください。
# 例：H列 -> 7, K列 -> 10, N列 -> 13 ...
column = 13
# 要確認として表示する，文章類似度のしきい値を設定してください。
# 類似度は0～1.0の範囲を取り，数値が高いほど似ていることを表します。初期値は0.95です。
# 判定結果は処理終了後に「ファイル選択ボタン」の下に表示されます。必要に応じて，コピー・アンド・ペーストしてください。
threshold = 0.95
# 以下のcode（講義コード）とperiod（時限）を希望のものに変更してください。
# なお，このコードは遅刻の判定は行いません。すべての記録は「遅刻ではない」として処理されます。
# また，「実施日」は一番最初にFormsに送信した受講生の日時を取得します。
code = '123456'
period = '1'


# 処理の開始
# 処理がエラーなく進むと，以下の出力欄にファイルのアップロード用ボタンが表示されます。
# なお，初回実行時はライブラリをダウンロードするため，時間が多くかかることがあります。
# そのボタンをクリックして，読み込みたいExcelファイルを選択してください。アップロードされたファイルは保存されますので，必要に応じて削除してください。
# ファイルの表示は左側の（「{χ}」アイコンの下にある）フォルダアイコンをクリックしてください。
h = HTML('<span style="font-size:large;">Microsoft Formsから得られたExcelファイルを１つだけ選択してください。</span>')
display(h)
uploaded = files.upload()
file_name = list(uploaded.keys())[0]
df = pd.read_excel(file_name)
# print(df)
h = HTML('<br>')
display(h)

# 文章の類似度判定処理
sentences = df.iloc[:, column].values.tolist()

def check_doubt(s, corr):
  exist = False
  n = corr.shape[0]
  ds = '要確認行\n'
  for i in range(n):
    for j in range(i):
      if corr[i][j] >= threshold:
        ds += f'{j + 2}-{i + 2} 類似度：{corr[i][j]}\n{j + 2}行目：{s[j]}\n{i + 2}行目：{s[i]}\n\n'
        exist = True
  return ds, exist

me = embed(sentences)
corr = np.inner(me, me)
s, e = check_doubt(sentences, corr)
if e:
  print(s)
else:
  print('判定結果\n' + threshold + '以上のペアはありませんでした。')

# UNIPA用のCSVファイル作成・ダウンロード
label_mail = 'メール'
label_name = '名前'
label_time = '完了時刻'
unipa = df.loc[:, [label_mail, label_name, label_time]]

csv_str = '講義コード,授業科目,学籍番号,学生氏名,学生氏名＿カナ,学生氏名＿英語,実施日,時限,出欠区分,出欠区分名称,欠席遅刻理由コード,欠席遅刻理由名称,時刻\n';
first = unipa.iloc[0, 2].strftime('%Y/%m/%d')

su = unipa.sort_values(by=label_mail)
for i, row in enumerate(unipa.iterrows()):
  no = su.iloc[i, 0].split('@')[0]
  na = su.iloc[i, 1].split(' ')[1] + ' ' + su.iloc[i, 1].split(' ')[0]
  date_time = su.iloc[i, 2].strftime('%Y/%m/%d %H:%M:%S')
  date = date_time.split(' ')[0]
  csv_str += f'{code},,{no},{na},,,{first},{period}, 0,,,,{date_time}\n'

# print(csv_str)
codecs.register_error('err', lambda e: ('???', e.end))
download_filename = 'unipa-' + code + '-' + first.replace('/', '') + '.csv'
with open(download_filename, 'w', encoding='shift_jis', errors='err') as f:
  f.write(csv_str)
files.download(download_filename)
